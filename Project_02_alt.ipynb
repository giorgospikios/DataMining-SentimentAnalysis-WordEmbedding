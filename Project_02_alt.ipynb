{
  "cells": [
    {
      "cell_type": "markdown",
      "metadata": {
        "id": "A6OPYCNyhsBq"
      },
      "source": [
        "# **Students' Personal Information**\n",
        "\n",
        "---\n",
        "### `Ioanna Apostolopoulou - 1115201600006`\n",
        "\n",
        "---\n",
        "\n",
        "### `Georgios Pikios - 1115201900357`\n",
        "\n",
        "---\n"
      ]
    },
    {
      "cell_type": "code",
      "execution_count": 1,
      "metadata": {
        "colab": {
          "base_uri": "https://localhost:8080/"
        },
        "id": "LnSKE3q6hvmg",
        "outputId": "4885388d-fd3f-4630-a2ce-4f0af99cbd07"
      },
      "outputs": [
        {
          "name": "stdout",
          "output_type": "stream",
          "text": [
            "Mounted at /content/drive\n"
          ]
        }
      ],
      "source": [
        "from google.colab import drive\n",
        "drive.mount('/content/drive')"
      ]
    },
    {
      "cell_type": "markdown",
      "metadata": {
        "id": "VpxUGuD-h5mn"
      },
      "source": [
        "### Changing directories in order to access datasets and files stored in specific locations"
      ]
    },
    {
      "cell_type": "code",
      "execution_count": 2,
      "metadata": {
        "id": "LjHyZjI4h6aM"
      },
      "outputs": [],
      "source": [
        "import os\n",
        "\n",
        "# changing directory to 'Project_01'\n",
        "os.chdir(\"/content/drive/MyDrive/Data_Mining_24/Project_02\")"
      ]
    },
    {
      "cell_type": "markdown",
      "metadata": {
        "id": "F5lc_z0fvGcO"
      },
      "source": [
        "### Getting transformers"
      ]
    },
    {
      "cell_type": "code",
      "execution_count": 3,
      "metadata": {
        "colab": {
          "base_uri": "https://localhost:8080/"
        },
        "collapsed": true,
        "id": "RKE5JwrtvcdU",
        "outputId": "286bcb97-e1de-42c5-d586-82998d849f3f"
      },
      "outputs": [
        {
          "name": "stdout",
          "output_type": "stream",
          "text": [
            "Requirement already satisfied: transformers in /usr/local/lib/python3.10/dist-packages (4.41.2)\n",
            "Requirement already satisfied: filelock in /usr/local/lib/python3.10/dist-packages (from transformers) (3.14.0)\n",
            "Requirement already satisfied: huggingface-hub<1.0,>=0.23.0 in /usr/local/lib/python3.10/dist-packages (from transformers) (0.23.3)\n",
            "Requirement already satisfied: numpy>=1.17 in /usr/local/lib/python3.10/dist-packages (from transformers) (1.25.2)\n",
            "Requirement already satisfied: packaging>=20.0 in /usr/local/lib/python3.10/dist-packages (from transformers) (24.1)\n",
            "Requirement already satisfied: pyyaml>=5.1 in /usr/local/lib/python3.10/dist-packages (from transformers) (6.0.1)\n",
            "Requirement already satisfied: regex!=2019.12.17 in /usr/local/lib/python3.10/dist-packages (from transformers) (2024.5.15)\n",
            "Requirement already satisfied: requests in /usr/local/lib/python3.10/dist-packages (from transformers) (2.31.0)\n",
            "Requirement already satisfied: tokenizers<0.20,>=0.19 in /usr/local/lib/python3.10/dist-packages (from transformers) (0.19.1)\n",
            "Requirement already satisfied: safetensors>=0.4.1 in /usr/local/lib/python3.10/dist-packages (from transformers) (0.4.3)\n",
            "Requirement already satisfied: tqdm>=4.27 in /usr/local/lib/python3.10/dist-packages (from transformers) (4.66.4)\n",
            "Requirement already satisfied: fsspec>=2023.5.0 in /usr/local/lib/python3.10/dist-packages (from huggingface-hub<1.0,>=0.23.0->transformers) (2023.6.0)\n",
            "Requirement already satisfied: typing-extensions>=3.7.4.3 in /usr/local/lib/python3.10/dist-packages (from huggingface-hub<1.0,>=0.23.0->transformers) (4.12.2)\n",
            "Requirement already satisfied: charset-normalizer<4,>=2 in /usr/local/lib/python3.10/dist-packages (from requests->transformers) (3.3.2)\n",
            "Requirement already satisfied: idna<4,>=2.5 in /usr/local/lib/python3.10/dist-packages (from requests->transformers) (3.7)\n",
            "Requirement already satisfied: urllib3<3,>=1.21.1 in /usr/local/lib/python3.10/dist-packages (from requests->transformers) (2.0.7)\n",
            "Requirement already satisfied: certifi>=2017.4.17 in /usr/local/lib/python3.10/dist-packages (from requests->transformers) (2024.6.2)\n",
            "Requirement already satisfied: tensorflow in /usr/local/lib/python3.10/dist-packages (2.15.0)\n",
            "Requirement already satisfied: absl-py>=1.0.0 in /usr/local/lib/python3.10/dist-packages (from tensorflow) (1.4.0)\n",
            "Requirement already satisfied: astunparse>=1.6.0 in /usr/local/lib/python3.10/dist-packages (from tensorflow) (1.6.3)\n",
            "Requirement already satisfied: flatbuffers>=23.5.26 in /usr/local/lib/python3.10/dist-packages (from tensorflow) (24.3.25)\n",
            "Requirement already satisfied: gast!=0.5.0,!=0.5.1,!=0.5.2,>=0.2.1 in /usr/local/lib/python3.10/dist-packages (from tensorflow) (0.5.4)\n",
            "Requirement already satisfied: google-pasta>=0.1.1 in /usr/local/lib/python3.10/dist-packages (from tensorflow) (0.2.0)\n",
            "Requirement already satisfied: h5py>=2.9.0 in /usr/local/lib/python3.10/dist-packages (from tensorflow) (3.9.0)\n",
            "Requirement already satisfied: libclang>=13.0.0 in /usr/local/lib/python3.10/dist-packages (from tensorflow) (18.1.1)\n",
            "Requirement already satisfied: ml-dtypes~=0.2.0 in /usr/local/lib/python3.10/dist-packages (from tensorflow) (0.2.0)\n",
            "Requirement already satisfied: numpy<2.0.0,>=1.23.5 in /usr/local/lib/python3.10/dist-packages (from tensorflow) (1.25.2)\n",
            "Requirement already satisfied: opt-einsum>=2.3.2 in /usr/local/lib/python3.10/dist-packages (from tensorflow) (3.3.0)\n",
            "Requirement already satisfied: packaging in /usr/local/lib/python3.10/dist-packages (from tensorflow) (24.1)\n",
            "Requirement already satisfied: protobuf!=4.21.0,!=4.21.1,!=4.21.2,!=4.21.3,!=4.21.4,!=4.21.5,<5.0.0dev,>=3.20.3 in /usr/local/lib/python3.10/dist-packages (from tensorflow) (3.20.3)\n",
            "Requirement already satisfied: setuptools in /usr/local/lib/python3.10/dist-packages (from tensorflow) (67.7.2)\n",
            "Requirement already satisfied: six>=1.12.0 in /usr/local/lib/python3.10/dist-packages (from tensorflow) (1.16.0)\n",
            "Requirement already satisfied: termcolor>=1.1.0 in /usr/local/lib/python3.10/dist-packages (from tensorflow) (2.4.0)\n",
            "Requirement already satisfied: typing-extensions>=3.6.6 in /usr/local/lib/python3.10/dist-packages (from tensorflow) (4.12.2)\n",
            "Requirement already satisfied: wrapt<1.15,>=1.11.0 in /usr/local/lib/python3.10/dist-packages (from tensorflow) (1.14.1)\n",
            "Requirement already satisfied: tensorflow-io-gcs-filesystem>=0.23.1 in /usr/local/lib/python3.10/dist-packages (from tensorflow) (0.37.0)\n",
            "Requirement already satisfied: grpcio<2.0,>=1.24.3 in /usr/local/lib/python3.10/dist-packages (from tensorflow) (1.64.1)\n",
            "Requirement already satisfied: tensorboard<2.16,>=2.15 in /usr/local/lib/python3.10/dist-packages (from tensorflow) (2.15.2)\n",
            "Requirement already satisfied: tensorflow-estimator<2.16,>=2.15.0 in /usr/local/lib/python3.10/dist-packages (from tensorflow) (2.15.0)\n",
            "Requirement already satisfied: keras<2.16,>=2.15.0 in /usr/local/lib/python3.10/dist-packages (from tensorflow) (2.15.0)\n",
            "Requirement already satisfied: wheel<1.0,>=0.23.0 in /usr/local/lib/python3.10/dist-packages (from astunparse>=1.6.0->tensorflow) (0.43.0)\n",
            "Requirement already satisfied: google-auth<3,>=1.6.3 in /usr/local/lib/python3.10/dist-packages (from tensorboard<2.16,>=2.15->tensorflow) (2.27.0)\n",
            "Requirement already satisfied: google-auth-oauthlib<2,>=0.5 in /usr/local/lib/python3.10/dist-packages (from tensorboard<2.16,>=2.15->tensorflow) (1.2.0)\n",
            "Requirement already satisfied: markdown>=2.6.8 in /usr/local/lib/python3.10/dist-packages (from tensorboard<2.16,>=2.15->tensorflow) (3.6)\n",
            "Requirement already satisfied: requests<3,>=2.21.0 in /usr/local/lib/python3.10/dist-packages (from tensorboard<2.16,>=2.15->tensorflow) (2.31.0)\n",
            "Requirement already satisfied: tensorboard-data-server<0.8.0,>=0.7.0 in /usr/local/lib/python3.10/dist-packages (from tensorboard<2.16,>=2.15->tensorflow) (0.7.2)\n",
            "Requirement already satisfied: werkzeug>=1.0.1 in /usr/local/lib/python3.10/dist-packages (from tensorboard<2.16,>=2.15->tensorflow) (3.0.3)\n",
            "Requirement already satisfied: cachetools<6.0,>=2.0.0 in /usr/local/lib/python3.10/dist-packages (from google-auth<3,>=1.6.3->tensorboard<2.16,>=2.15->tensorflow) (5.3.3)\n",
            "Requirement already satisfied: pyasn1-modules>=0.2.1 in /usr/local/lib/python3.10/dist-packages (from google-auth<3,>=1.6.3->tensorboard<2.16,>=2.15->tensorflow) (0.4.0)\n",
            "Requirement already satisfied: rsa<5,>=3.1.4 in /usr/local/lib/python3.10/dist-packages (from google-auth<3,>=1.6.3->tensorboard<2.16,>=2.15->tensorflow) (4.9)\n",
            "Requirement already satisfied: requests-oauthlib>=0.7.0 in /usr/local/lib/python3.10/dist-packages (from google-auth-oauthlib<2,>=0.5->tensorboard<2.16,>=2.15->tensorflow) (1.3.1)\n",
            "Requirement already satisfied: charset-normalizer<4,>=2 in /usr/local/lib/python3.10/dist-packages (from requests<3,>=2.21.0->tensorboard<2.16,>=2.15->tensorflow) (3.3.2)\n",
            "Requirement already satisfied: idna<4,>=2.5 in /usr/local/lib/python3.10/dist-packages (from requests<3,>=2.21.0->tensorboard<2.16,>=2.15->tensorflow) (3.7)\n",
            "Requirement already satisfied: urllib3<3,>=1.21.1 in /usr/local/lib/python3.10/dist-packages (from requests<3,>=2.21.0->tensorboard<2.16,>=2.15->tensorflow) (2.0.7)\n",
            "Requirement already satisfied: certifi>=2017.4.17 in /usr/local/lib/python3.10/dist-packages (from requests<3,>=2.21.0->tensorboard<2.16,>=2.15->tensorflow) (2024.6.2)\n",
            "Requirement already satisfied: MarkupSafe>=2.1.1 in /usr/local/lib/python3.10/dist-packages (from werkzeug>=1.0.1->tensorboard<2.16,>=2.15->tensorflow) (2.1.5)\n",
            "Requirement already satisfied: pyasn1<0.7.0,>=0.4.6 in /usr/local/lib/python3.10/dist-packages (from pyasn1-modules>=0.2.1->google-auth<3,>=1.6.3->tensorboard<2.16,>=2.15->tensorflow) (0.6.0)\n",
            "Requirement already satisfied: oauthlib>=3.0.0 in /usr/local/lib/python3.10/dist-packages (from requests-oauthlib>=0.7.0->google-auth-oauthlib<2,>=0.5->tensorboard<2.16,>=2.15->tensorflow) (3.2.2)\n",
            "Requirement already satisfied: torch in /usr/local/lib/python3.10/dist-packages (2.3.0+cu121)\n",
            "Requirement already satisfied: torchvision in /usr/local/lib/python3.10/dist-packages (0.18.0+cu121)\n",
            "Requirement already satisfied: torchaudio in /usr/local/lib/python3.10/dist-packages (2.3.0+cu121)\n",
            "Requirement already satisfied: filelock in /usr/local/lib/python3.10/dist-packages (from torch) (3.14.0)\n",
            "Requirement already satisfied: typing-extensions>=4.8.0 in /usr/local/lib/python3.10/dist-packages (from torch) (4.12.2)\n",
            "Requirement already satisfied: sympy in /usr/local/lib/python3.10/dist-packages (from torch) (1.12.1)\n",
            "Requirement already satisfied: networkx in /usr/local/lib/python3.10/dist-packages (from torch) (3.3)\n",
            "Requirement already satisfied: jinja2 in /usr/local/lib/python3.10/dist-packages (from torch) (3.1.4)\n",
            "Requirement already satisfied: fsspec in /usr/local/lib/python3.10/dist-packages (from torch) (2023.6.0)\n",
            "Collecting nvidia-cuda-nvrtc-cu12==12.1.105 (from torch)\n",
            "  Using cached nvidia_cuda_nvrtc_cu12-12.1.105-py3-none-manylinux1_x86_64.whl (23.7 MB)\n",
            "Collecting nvidia-cuda-runtime-cu12==12.1.105 (from torch)\n",
            "  Using cached nvidia_cuda_runtime_cu12-12.1.105-py3-none-manylinux1_x86_64.whl (823 kB)\n",
            "Collecting nvidia-cuda-cupti-cu12==12.1.105 (from torch)\n",
            "  Using cached nvidia_cuda_cupti_cu12-12.1.105-py3-none-manylinux1_x86_64.whl (14.1 MB)\n",
            "Collecting nvidia-cudnn-cu12==8.9.2.26 (from torch)\n",
            "  Using cached nvidia_cudnn_cu12-8.9.2.26-py3-none-manylinux1_x86_64.whl (731.7 MB)\n",
            "Collecting nvidia-cublas-cu12==12.1.3.1 (from torch)\n",
            "  Using cached nvidia_cublas_cu12-12.1.3.1-py3-none-manylinux1_x86_64.whl (410.6 MB)\n",
            "Collecting nvidia-cufft-cu12==11.0.2.54 (from torch)\n",
            "  Using cached nvidia_cufft_cu12-11.0.2.54-py3-none-manylinux1_x86_64.whl (121.6 MB)\n",
            "Collecting nvidia-curand-cu12==10.3.2.106 (from torch)\n",
            "  Using cached nvidia_curand_cu12-10.3.2.106-py3-none-manylinux1_x86_64.whl (56.5 MB)\n",
            "Collecting nvidia-cusolver-cu12==11.4.5.107 (from torch)\n",
            "  Using cached nvidia_cusolver_cu12-11.4.5.107-py3-none-manylinux1_x86_64.whl (124.2 MB)\n",
            "Collecting nvidia-cusparse-cu12==12.1.0.106 (from torch)\n",
            "  Using cached nvidia_cusparse_cu12-12.1.0.106-py3-none-manylinux1_x86_64.whl (196.0 MB)\n",
            "Collecting nvidia-nccl-cu12==2.20.5 (from torch)\n",
            "  Using cached nvidia_nccl_cu12-2.20.5-py3-none-manylinux2014_x86_64.whl (176.2 MB)\n",
            "Collecting nvidia-nvtx-cu12==12.1.105 (from torch)\n",
            "  Using cached nvidia_nvtx_cu12-12.1.105-py3-none-manylinux1_x86_64.whl (99 kB)\n",
            "Requirement already satisfied: triton==2.3.0 in /usr/local/lib/python3.10/dist-packages (from torch) (2.3.0)\n",
            "Collecting nvidia-nvjitlink-cu12 (from nvidia-cusolver-cu12==11.4.5.107->torch)\n",
            "  Downloading nvidia_nvjitlink_cu12-12.5.40-py3-none-manylinux2014_x86_64.whl (21.3 MB)\n",
            "\u001b[2K     \u001b[90m━━━━━━━━━━━━━━━━━━━━━━━━━━━━━━━━━━━━━━━━\u001b[0m \u001b[32m21.3/21.3 MB\u001b[0m \u001b[31m32.5 MB/s\u001b[0m eta \u001b[36m0:00:00\u001b[0m\n",
            "\u001b[?25hRequirement already satisfied: numpy in /usr/local/lib/python3.10/dist-packages (from torchvision) (1.25.2)\n",
            "Requirement already satisfied: pillow!=8.3.*,>=5.3.0 in /usr/local/lib/python3.10/dist-packages (from torchvision) (9.4.0)\n",
            "Requirement already satisfied: MarkupSafe>=2.0 in /usr/local/lib/python3.10/dist-packages (from jinja2->torch) (2.1.5)\n",
            "Requirement already satisfied: mpmath<1.4.0,>=1.1.0 in /usr/local/lib/python3.10/dist-packages (from sympy->torch) (1.3.0)\n",
            "Installing collected packages: nvidia-nvtx-cu12, nvidia-nvjitlink-cu12, nvidia-nccl-cu12, nvidia-curand-cu12, nvidia-cufft-cu12, nvidia-cuda-runtime-cu12, nvidia-cuda-nvrtc-cu12, nvidia-cuda-cupti-cu12, nvidia-cublas-cu12, nvidia-cusparse-cu12, nvidia-cudnn-cu12, nvidia-cusolver-cu12\n",
            "Successfully installed nvidia-cublas-cu12-12.1.3.1 nvidia-cuda-cupti-cu12-12.1.105 nvidia-cuda-nvrtc-cu12-12.1.105 nvidia-cuda-runtime-cu12-12.1.105 nvidia-cudnn-cu12-8.9.2.26 nvidia-cufft-cu12-11.0.2.54 nvidia-curand-cu12-10.3.2.106 nvidia-cusolver-cu12-11.4.5.107 nvidia-cusparse-cu12-12.1.0.106 nvidia-nccl-cu12-2.20.5 nvidia-nvjitlink-cu12-12.5.40 nvidia-nvtx-cu12-12.1.105\n",
            "Collecting langdetect\n",
            "  Downloading langdetect-1.0.9.tar.gz (981 kB)\n",
            "\u001b[2K     \u001b[90m━━━━━━━━━━━━━━━━━━━━━━━━━━━━━━━━━━━━━━━━\u001b[0m \u001b[32m981.5/981.5 kB\u001b[0m \u001b[31m12.0 MB/s\u001b[0m eta \u001b[36m0:00:00\u001b[0m\n",
            "\u001b[?25h  Preparing metadata (setup.py) ... \u001b[?25l\u001b[?25hdone\n",
            "Requirement already satisfied: six in /usr/local/lib/python3.10/dist-packages (from langdetect) (1.16.0)\n",
            "Building wheels for collected packages: langdetect\n",
            "  Building wheel for langdetect (setup.py) ... \u001b[?25l\u001b[?25hdone\n",
            "  Created wheel for langdetect: filename=langdetect-1.0.9-py3-none-any.whl size=993227 sha256=b0ef15ece4456554a05dc2837e4ace552f4da986da46346ee16e4e16b51d62fd\n",
            "  Stored in directory: /root/.cache/pip/wheels/95/03/7d/59ea870c70ce4e5a370638b5462a7711ab78fba2f655d05106\n",
            "Successfully built langdetect\n",
            "Installing collected packages: langdetect\n",
            "Successfully installed langdetect-1.0.9\n",
            "Requirement already satisfied: tf-keras in /usr/local/lib/python3.10/dist-packages (2.15.1)\n",
            "Requirement already satisfied: tensorflow<2.16,>=2.15 in /usr/local/lib/python3.10/dist-packages (from tf-keras) (2.15.0)\n",
            "Requirement already satisfied: absl-py>=1.0.0 in /usr/local/lib/python3.10/dist-packages (from tensorflow<2.16,>=2.15->tf-keras) (1.4.0)\n",
            "Requirement already satisfied: astunparse>=1.6.0 in /usr/local/lib/python3.10/dist-packages (from tensorflow<2.16,>=2.15->tf-keras) (1.6.3)\n",
            "Requirement already satisfied: flatbuffers>=23.5.26 in /usr/local/lib/python3.10/dist-packages (from tensorflow<2.16,>=2.15->tf-keras) (24.3.25)\n",
            "Requirement already satisfied: gast!=0.5.0,!=0.5.1,!=0.5.2,>=0.2.1 in /usr/local/lib/python3.10/dist-packages (from tensorflow<2.16,>=2.15->tf-keras) (0.5.4)\n",
            "Requirement already satisfied: google-pasta>=0.1.1 in /usr/local/lib/python3.10/dist-packages (from tensorflow<2.16,>=2.15->tf-keras) (0.2.0)\n",
            "Requirement already satisfied: h5py>=2.9.0 in /usr/local/lib/python3.10/dist-packages (from tensorflow<2.16,>=2.15->tf-keras) (3.9.0)\n",
            "Requirement already satisfied: libclang>=13.0.0 in /usr/local/lib/python3.10/dist-packages (from tensorflow<2.16,>=2.15->tf-keras) (18.1.1)\n",
            "Requirement already satisfied: ml-dtypes~=0.2.0 in /usr/local/lib/python3.10/dist-packages (from tensorflow<2.16,>=2.15->tf-keras) (0.2.0)\n",
            "Requirement already satisfied: numpy<2.0.0,>=1.23.5 in /usr/local/lib/python3.10/dist-packages (from tensorflow<2.16,>=2.15->tf-keras) (1.25.2)\n",
            "Requirement already satisfied: opt-einsum>=2.3.2 in /usr/local/lib/python3.10/dist-packages (from tensorflow<2.16,>=2.15->tf-keras) (3.3.0)\n",
            "Requirement already satisfied: packaging in /usr/local/lib/python3.10/dist-packages (from tensorflow<2.16,>=2.15->tf-keras) (24.1)\n",
            "Requirement already satisfied: protobuf!=4.21.0,!=4.21.1,!=4.21.2,!=4.21.3,!=4.21.4,!=4.21.5,<5.0.0dev,>=3.20.3 in /usr/local/lib/python3.10/dist-packages (from tensorflow<2.16,>=2.15->tf-keras) (3.20.3)\n",
            "Requirement already satisfied: setuptools in /usr/local/lib/python3.10/dist-packages (from tensorflow<2.16,>=2.15->tf-keras) (67.7.2)\n",
            "Requirement already satisfied: six>=1.12.0 in /usr/local/lib/python3.10/dist-packages (from tensorflow<2.16,>=2.15->tf-keras) (1.16.0)\n",
            "Requirement already satisfied: termcolor>=1.1.0 in /usr/local/lib/python3.10/dist-packages (from tensorflow<2.16,>=2.15->tf-keras) (2.4.0)\n",
            "Requirement already satisfied: typing-extensions>=3.6.6 in /usr/local/lib/python3.10/dist-packages (from tensorflow<2.16,>=2.15->tf-keras) (4.12.2)\n",
            "Requirement already satisfied: wrapt<1.15,>=1.11.0 in /usr/local/lib/python3.10/dist-packages (from tensorflow<2.16,>=2.15->tf-keras) (1.14.1)\n",
            "Requirement already satisfied: tensorflow-io-gcs-filesystem>=0.23.1 in /usr/local/lib/python3.10/dist-packages (from tensorflow<2.16,>=2.15->tf-keras) (0.37.0)\n",
            "Requirement already satisfied: grpcio<2.0,>=1.24.3 in /usr/local/lib/python3.10/dist-packages (from tensorflow<2.16,>=2.15->tf-keras) (1.64.1)\n",
            "Requirement already satisfied: tensorboard<2.16,>=2.15 in /usr/local/lib/python3.10/dist-packages (from tensorflow<2.16,>=2.15->tf-keras) (2.15.2)\n",
            "Requirement already satisfied: tensorflow-estimator<2.16,>=2.15.0 in /usr/local/lib/python3.10/dist-packages (from tensorflow<2.16,>=2.15->tf-keras) (2.15.0)\n",
            "Requirement already satisfied: keras<2.16,>=2.15.0 in /usr/local/lib/python3.10/dist-packages (from tensorflow<2.16,>=2.15->tf-keras) (2.15.0)\n",
            "Requirement already satisfied: wheel<1.0,>=0.23.0 in /usr/local/lib/python3.10/dist-packages (from astunparse>=1.6.0->tensorflow<2.16,>=2.15->tf-keras) (0.43.0)\n",
            "Requirement already satisfied: google-auth<3,>=1.6.3 in /usr/local/lib/python3.10/dist-packages (from tensorboard<2.16,>=2.15->tensorflow<2.16,>=2.15->tf-keras) (2.27.0)\n",
            "Requirement already satisfied: google-auth-oauthlib<2,>=0.5 in /usr/local/lib/python3.10/dist-packages (from tensorboard<2.16,>=2.15->tensorflow<2.16,>=2.15->tf-keras) (1.2.0)\n",
            "Requirement already satisfied: markdown>=2.6.8 in /usr/local/lib/python3.10/dist-packages (from tensorboard<2.16,>=2.15->tensorflow<2.16,>=2.15->tf-keras) (3.6)\n",
            "Requirement already satisfied: requests<3,>=2.21.0 in /usr/local/lib/python3.10/dist-packages (from tensorboard<2.16,>=2.15->tensorflow<2.16,>=2.15->tf-keras) (2.31.0)\n",
            "Requirement already satisfied: tensorboard-data-server<0.8.0,>=0.7.0 in /usr/local/lib/python3.10/dist-packages (from tensorboard<2.16,>=2.15->tensorflow<2.16,>=2.15->tf-keras) (0.7.2)\n",
            "Requirement already satisfied: werkzeug>=1.0.1 in /usr/local/lib/python3.10/dist-packages (from tensorboard<2.16,>=2.15->tensorflow<2.16,>=2.15->tf-keras) (3.0.3)\n",
            "Requirement already satisfied: cachetools<6.0,>=2.0.0 in /usr/local/lib/python3.10/dist-packages (from google-auth<3,>=1.6.3->tensorboard<2.16,>=2.15->tensorflow<2.16,>=2.15->tf-keras) (5.3.3)\n",
            "Requirement already satisfied: pyasn1-modules>=0.2.1 in /usr/local/lib/python3.10/dist-packages (from google-auth<3,>=1.6.3->tensorboard<2.16,>=2.15->tensorflow<2.16,>=2.15->tf-keras) (0.4.0)\n",
            "Requirement already satisfied: rsa<5,>=3.1.4 in /usr/local/lib/python3.10/dist-packages (from google-auth<3,>=1.6.3->tensorboard<2.16,>=2.15->tensorflow<2.16,>=2.15->tf-keras) (4.9)\n",
            "Requirement already satisfied: requests-oauthlib>=0.7.0 in /usr/local/lib/python3.10/dist-packages (from google-auth-oauthlib<2,>=0.5->tensorboard<2.16,>=2.15->tensorflow<2.16,>=2.15->tf-keras) (1.3.1)\n",
            "Requirement already satisfied: charset-normalizer<4,>=2 in /usr/local/lib/python3.10/dist-packages (from requests<3,>=2.21.0->tensorboard<2.16,>=2.15->tensorflow<2.16,>=2.15->tf-keras) (3.3.2)\n",
            "Requirement already satisfied: idna<4,>=2.5 in /usr/local/lib/python3.10/dist-packages (from requests<3,>=2.21.0->tensorboard<2.16,>=2.15->tensorflow<2.16,>=2.15->tf-keras) (3.7)\n",
            "Requirement already satisfied: urllib3<3,>=1.21.1 in /usr/local/lib/python3.10/dist-packages (from requests<3,>=2.21.0->tensorboard<2.16,>=2.15->tensorflow<2.16,>=2.15->tf-keras) (2.0.7)\n",
            "Requirement already satisfied: certifi>=2017.4.17 in /usr/local/lib/python3.10/dist-packages (from requests<3,>=2.21.0->tensorboard<2.16,>=2.15->tensorflow<2.16,>=2.15->tf-keras) (2024.6.2)\n",
            "Requirement already satisfied: MarkupSafe>=2.1.1 in /usr/local/lib/python3.10/dist-packages (from werkzeug>=1.0.1->tensorboard<2.16,>=2.15->tensorflow<2.16,>=2.15->tf-keras) (2.1.5)\n",
            "Requirement already satisfied: pyasn1<0.7.0,>=0.4.6 in /usr/local/lib/python3.10/dist-packages (from pyasn1-modules>=0.2.1->google-auth<3,>=1.6.3->tensorboard<2.16,>=2.15->tensorflow<2.16,>=2.15->tf-keras) (0.6.0)\n",
            "Requirement already satisfied: oauthlib>=3.0.0 in /usr/local/lib/python3.10/dist-packages (from requests-oauthlib>=0.7.0->google-auth-oauthlib<2,>=0.5->tensorboard<2.16,>=2.15->tensorflow<2.16,>=2.15->tf-keras) (3.2.2)\n"
          ]
        }
      ],
      "source": [
        "!pip install transformers\n",
        "!pip install tensorflow\n",
        "!pip install torch torchvision torchaudio\n",
        "!pip install langdetect\n",
        "!pip install tf-keras"
      ]
    },
    {
      "cell_type": "markdown",
      "metadata": {
        "id": "5rIJRgMdiBG2"
      },
      "source": [
        "## First, we import all the necessary libraries for our project"
      ]
    },
    {
      "cell_type": "code",
      "execution_count": 2,
      "metadata": {
        "id": "Hzt6g321iY8J"
      },
      "outputs": [],
      "source": [
        "import pandas as pd\n",
        "import numpy as np\n",
        "import string\n",
        "import sys\n",
        "import re\n",
        "\n",
        "# data visualization\n",
        "import seaborn as sns\n",
        "import matplotlib.pyplot as plt\n",
        "\n",
        "# working with pipelines\n",
        "from transformers import pipeline\n",
        "\n",
        "# for the second part of the assignment\n",
        "#from sklearn.feature_extraction.text import TfidfVectorizer\n",
        "#from sklearn.metrics.pairwise import cosine_similarity\n",
        "\n",
        "# working with text data\n",
        "import nltk\n",
        "from nltk.tokenize import word_tokenize\n",
        "from nltk.corpus import stopwords\n",
        "\n",
        "from langdetect import detect, DetectorFactory\n",
        "from langdetect.lang_detect_exception import LangDetectException\n",
        "\n",
        "import random"
      ]
    },
    {
      "cell_type": "code",
      "execution_count": 4,
      "metadata": {
        "colab": {
          "base_uri": "https://localhost:8080/"
        },
        "id": "yAilcJu_tUPT",
        "outputId": "6c4c3a66-05bd-4531-a6b6-db357707578e"
      },
      "outputs": [
        {
          "name": "stderr",
          "output_type": "stream",
          "text": [
            "[nltk_data] Downloading package stopwords to\n",
            "[nltk_data]     C:\\Users\\user\\AppData\\Roaming\\nltk_data...\n",
            "[nltk_data]   Package stopwords is already up-to-date!\n",
            "[nltk_data] Downloading package punkt to\n",
            "[nltk_data]     C:\\Users\\user\\AppData\\Roaming\\nltk_data...\n",
            "[nltk_data]   Package punkt is already up-to-date!\n"
          ]
        },
        {
          "data": {
            "text/plain": [
              "True"
            ]
          },
          "execution_count": 4,
          "metadata": {},
          "output_type": "execute_result"
        }
      ],
      "source": [
        "nltk.download('stopwords')\n",
        "nltk.download('punkt')"
      ]
    },
    {
      "cell_type": "markdown",
      "metadata": {
        "id": "RTneEkWzwKyY"
      },
      "source": [
        "# **First Part: ✨Study over time**✨"
      ]
    },
    {
      "cell_type": "code",
      "execution_count": 5,
      "metadata": {
        "id": "F9ZhHXyRDhjS"
      },
      "outputs": [],
      "source": [
        "# defining a list of years\n",
        "year_list = [\"2019\", \"2023\"]\n",
        "# defining a list of months for each year\n",
        "months_list_2019 = [\"febrouary\", \"march\", \"april\"]\n",
        "months_list_2023 = [ \"march\" , \"june\", \"september\" ]\n",
        "\n",
        "# initializing an empty dictionary\n",
        "df_reviews_dictionary = {}\n",
        "# looping through each year\n",
        "for year in year_list:\n",
        "  if year == \"2019\":\n",
        "    for month in months_list_2019:\n",
        "      # reading the review CSV file for each month\n",
        "      df = pd.read_csv(f\"data/2019/{month}/reviews.csv\")\n",
        "      # storing the dataframe in the dictionary with a key\n",
        "      df_reviews_dictionary[f\"df_2019_{month}_reviews\"] = df\n",
        "  elif year == \"2023\":\n",
        "    for month in months_list_2023:\n",
        "      df = pd.read_csv(f\"data/2023/{month}/reviews.csv\")\n",
        "      df_reviews_dictionary[f\"df_2023_{month}_reviews\"] = df"
      ]
    },
    {
      "cell_type": "markdown",
      "metadata": {
        "id": "d7y5VBD3wkoJ"
      },
      "source": [
        "duplicates in comments"
      ]
    },
    {
      "cell_type": "code",
      "execution_count": 6,
      "metadata": {
        "id": "xNzo0jGnwkTa"
      },
      "outputs": [],
      "source": [
        "for df_name in df_reviews_dictionary:\n",
        "  df_reviews_dictionary[df_name] = df_reviews_dictionary[df_name].drop_duplicates(subset=['comments']).dropna(subset=['comments'])"
      ]
    },
    {
      "cell_type": "code",
      "execution_count": 7,
      "metadata": {
        "colab": {
          "base_uri": "https://localhost:8080/"
        },
        "id": "JPe5qt69wxTz",
        "outputId": "d9422c96-3cd7-4ca4-cf01-5272e37cc69a"
      },
      "outputs": [
        {
          "name": "stdout",
          "output_type": "stream",
          "text": [
            "in df_2019_febrouary_reviews dataframe where found  0 duplicates out of  272439 data points\n",
            "in df_2019_febrouary_reviews dataframe where found  0 NaN or null values \n",
            "\n",
            "\n",
            "in df_2019_march_reviews dataframe where found  0 duplicates out of  275473 data points\n",
            "in df_2019_march_reviews dataframe where found  0 NaN or null values \n",
            "\n",
            "\n",
            "in df_2019_april_reviews dataframe where found  0 duplicates out of  282769 data points\n",
            "in df_2019_april_reviews dataframe where found  0 NaN or null values \n",
            "\n",
            "\n",
            "in df_2023_march_reviews dataframe where found  0 duplicates out of  521148 data points\n",
            "in df_2023_march_reviews dataframe where found  0 NaN or null values \n",
            "\n",
            "\n",
            "in df_2023_june_reviews dataframe where found  0 duplicates out of  561114 data points\n",
            "in df_2023_june_reviews dataframe where found  0 NaN or null values \n",
            "\n",
            "\n",
            "in df_2023_september_reviews dataframe where found  0 duplicates out of  561114 data points\n",
            "in df_2023_september_reviews dataframe where found  0 NaN or null values \n",
            "\n",
            "\n"
          ]
        }
      ],
      "source": [
        "#checking if the duplicates where deleted\n",
        "for df_name in df_reviews_dictionary:\n",
        "    print(f\"in {df_name} dataframe where found \", df_reviews_dictionary[df_name]['comments'].duplicated().sum() ,\"duplicates out of \", df_reviews_dictionary[df_name]['comments'].count(), \"data points\")\n",
        "    print(f\"in {df_name} dataframe where found \", df_reviews_dictionary[df_name]['comments'].isna().sum() ,\"NaN or null values \\n\\n\")"
      ]
    },
    {
      "cell_type": "code",
      "execution_count": 8,
      "metadata": {
        "colab": {
          "base_uri": "https://localhost:8080/"
        },
        "id": "NOkTL7O5xrvK",
        "outputId": "4b87c6d1-46f3-4f5d-f38b-44833835b4e5"
      },
      "outputs": [
        {
          "name": "stdout",
          "output_type": "stream",
          "text": [
            "the name of the key of the dictionary:  df_2019_febrouary_reviews \n",
            "\n",
            "\n",
            "the name of the key of the dictionary:  df_2019_march_reviews \n",
            "\n",
            "\n",
            "the name of the key of the dictionary:  df_2019_april_reviews \n",
            "\n",
            "\n",
            "the name of the key of the dictionary:  df_2023_march_reviews \n",
            "\n",
            "\n",
            "the name of the key of the dictionary:  df_2023_june_reviews \n",
            "\n",
            "\n",
            "the name of the key of the dictionary:  df_2023_september_reviews \n",
            "\n",
            "\n"
          ]
        }
      ],
      "source": [
        "for key_name in df_reviews_dictionary:\n",
        "    print(\"the name of the key of the dictionary: \", key_name, \"\\n\\n\")\n",
        "    df_reviews_dictionary[key_name]['comments'] = df_reviews_dictionary[key_name]['comments'].apply(lambda x: str(x) if not isinstance(x, str) else x) #making sure all the comments are strings"
      ]
    },
    {
      "cell_type": "code",
      "execution_count": 12,
      "metadata": {
        "colab": {
          "base_uri": "https://localhost:8080/"
        },
        "id": "6eNnWeDpFeqz",
        "outputId": "cd23bac9-64a2-49f3-db39-7878e7559a34"
      },
      "outputs": [
        {
          "name": "stdout",
          "output_type": "stream",
          "text": [
            "Language detection failed for '!!!': No features in text.\n",
            "Language detection failed for '!!!': No features in text.\n",
            "Language detection failed for ',': No features in text.\n",
            "Language detection failed for ',': No features in text.\n",
            "Language detection failed for '!!!': No features in text.\n",
            "Language detection failed for ',': No features in text.\n",
            "Language detection failed for '!!!': No features in text.\n",
            "3 \n",
            "\n",
            "\n",
            "3\n",
            "300 \n",
            "\n",
            "\n",
            "300 \n",
            "\n",
            "\n"
          ]
        }
      ],
      "source": [
        "import pandas as pd\n",
        "from langdetect import detect, LangDetectException\n",
        "import random\n",
        "\n",
        "sample_size = 100\n",
        "\n",
        "# Create lists to hold the sampled dataframes for each year\n",
        "sampled_dataframes_2019 = []\n",
        "sampled_dataframes_2023 = []\n",
        "\n",
        "# Function to sample English comments from a given DataFrame\n",
        "def sample_english_comments(df, sample_size):\n",
        "    sampled_df = pd.DataFrame(columns=df.columns)\n",
        "    for index, row in df.iterrows():\n",
        "        if len(sampled_df) >= sample_size:\n",
        "            break\n",
        "        comment = row['comments']\n",
        "        if len(comment) > 500:\n",
        "            continue\n",
        "        try:\n",
        "            if detect(comment) == 'en':\n",
        "                seed_value = random.randint(0, 900)\n",
        "                if seed_value % 2 == 0:\n",
        "                    sampled_df = sampled_df._append(row, ignore_index=True)\n",
        "        except LangDetectException as e:\n",
        "            print(f\"Language detection failed for '{comment}': {e}\")\n",
        "    return sampled_df\n",
        "\n",
        "# Loop through the dictionary keys and process each DataFrame\n",
        "for df_name in df_reviews_dictionary:\n",
        "    df = df_reviews_dictionary[df_name]\n",
        "    year = df_name.split('_')[1]\n",
        "\n",
        "    sampled_df = sample_english_comments(df, sample_size)\n",
        "\n",
        "    if '2019' in df_name:\n",
        "        sampled_dataframes_2019.append(sampled_df)\n",
        "    elif '2023' in df_name:\n",
        "        sampled_dataframes_2023.append(sampled_df)\n",
        "\n",
        "# Combine the sampled DataFrames for each year\n",
        "sampled_df_2019_reviews = pd.concat(sampled_dataframes_2019, ignore_index=True)\n",
        "sampled_df_2023_reviews = pd.concat(sampled_dataframes_2023, ignore_index=True)\n",
        "\n",
        "# Checking if lists have the expected number of elements\n",
        "print(len(sampled_dataframes_2019), \"\\n\\n\")\n",
        "print(len(sampled_dataframes_2023))\n",
        "\n",
        "# Checking if the full sampled DataFrames have the expected number of rows and columns\n",
        "print(sampled_df_2019_reviews.shape[0], \"\\n\\n\")\n",
        "print(sampled_df_2023_reviews.shape[0], \"\\n\\n\")\n"
      ]
    },
    {
      "cell_type": "code",
      "execution_count": 35,
      "metadata": {
        "colab": {
          "base_uri": "https://localhost:8080/"
        },
        "id": "DuJsmn7QGklB",
        "outputId": "15a5ea4e-b0c7-4703-ed89-19d04e298a06"
      },
      "outputs": [
        {
          "name": "stdout",
          "output_type": "stream",
          "text": [
            "  listing_id        id        date reviewer_id reviewer_name  \\\n",
            "0      10595    271535  2011-05-20      189305        Pamela   \n",
            "1      10595   4678609  2013-05-20     2635427         Ahmet   \n",
            "2      10595  58112024  2015-12-31    52248367     Ευαγγελια   \n",
            "3      10988   4996723  2013-06-06     2684185      Nicholas   \n",
            "4      10988  12508543  2014-05-04     1189558        Alyona   \n",
            "\n",
            "                                            comments neighbourhood  \n",
            "0  apartment wonderful fully equiped beautiful de...           NaN  \n",
            "1  manos good host kind helpful apartments spacio...           NaN  \n",
            "2  apartment nice clean owner helpful help amenit...           NaN  \n",
            "3  manos exceptionally wonderful host went way as...           NaN  \n",
            "4  mr manos extremely helpful nice person waiting...           NaN   \n",
            "\n",
            "\n",
            "  listing_id        id        date reviewer_id reviewer_name  \\\n",
            "0      10595   4678609  2013-05-20     2635427         Ahmet   \n",
            "1    1708578  12403520  2014-05-01    12177872         Vicky   \n",
            "2    1708578  14116203  2014-06-12    13953392         Bryan   \n",
            "3    1708578  22384243  2014-11-04     4951148       Andreas   \n",
            "4    1708578  36689578  2015-06-30    30498628   K. Scarlett   \n",
            "\n",
            "                                            comments neighbourhood  \n",
            "0  manos good host kind helpful apartments spacio...           NaN  \n",
            "1  angeliki great host friend really enjoyed stay...           NaN  \n",
            "2  little room perfect suitable size great one pe...           NaN  \n",
            "3  aggeliki super kind excellent host help anythi...           NaN  \n",
            "4  angeliki amazing welcomed fresh fruit breakfas...           NaN  \n"
          ]
        }
      ],
      "source": [
        "import numbers\n",
        "\n",
        "url_pattern = re.compile(r'https?://\\S+|www\\.\\S+')\n",
        "\n",
        "emoji_pattern = re.compile(\"[\"\n",
        "                           u\"U0001F600-U0001F64F\"  # emoticons\n",
        "                           u\"U0001F300-U0001F5FF\"  # symbols & pictographs\n",
        "                           u\"U0001F680-U0001F6FF\"  # transport & map symbols\n",
        "                           u\"U0001F1E0-U0001F1FF\"  # flags (iOS)\n",
        "                           u\"U00002702-U000027B0\"\n",
        "                           u\"U000024C2-U0001F251\"\n",
        "                           \"]+\", flags=re.UNICODE)\n",
        "\n",
        "emoticon_pattern = r'[:;=8][-o*\\'`^]?[)\\]dD\\}>]|[(:;=8][-o*\\'`^]?[(\\[{<]|<3|:P|:p|:O|:o|:X|:x|:S|:s'\n",
        "\n",
        "stop_words = set(stopwords.words('english'))\n",
        "\n",
        "# Function to preprocess a comment\n",
        "def preprocess_comment(comment):\n",
        "\n",
        "    if isinstance(comment, numbers.Number):\n",
        "        comment = str(comment)\n",
        "\n",
        "    # Convert to lowercase\n",
        "    comment = comment.lower()\n",
        "    comment = re.sub(emoticon_pattern, '', comment)\n",
        "    # Remove URLs\n",
        "    comment = url_pattern.sub('', comment)\n",
        "    # Remove emojis and emoticons\n",
        "    comment = emoji_pattern.sub('', comment)\n",
        "    # Remove punctuation marks except exclamation mark\n",
        "    comment = ''.join([char if char == '!' or char not in string.punctuation else ' ' for char in comment])\n",
        "    # Tokenize the comment\n",
        "    tokens = nltk.word_tokenize(comment)\n",
        "    # Remove stopwords\n",
        "    tokens = [word for word in tokens if word not in stop_words]\n",
        "    # Join tokens back into a string\n",
        "    cleaned_comment = ' '.join(tokens)\n",
        "\n",
        "    return cleaned_comment\n",
        "\n",
        "\n",
        "# Apply the function to each comment\n",
        "sampled_df_2019_reviews['comments'] = sampled_df_2019_reviews['comments'].apply(preprocess_comment)\n",
        "sampled_df_2023_reviews['comments'] = sampled_df_2023_reviews['comments'].apply(preprocess_comment)\n",
        "\n",
        "print(sampled_df_2019_reviews.head(), \"\\n\\n\")\n",
        "print(sampled_df_2023_reviews.head())"
      ]
    },
    {
      "cell_type": "code",
      "execution_count": 36,
      "metadata": {
        "colab": {
          "base_uri": "https://localhost:8080/"
        },
        "id": "KfRIc1cyGsF5",
        "outputId": "18ccb2ef-da16-43b3-abb0-1cfd853b57c0"
      },
      "outputs": [
        {
          "name": "stderr",
          "output_type": "stream",
          "text": [
            "Some weights of the model checkpoint at j-hartmann/sentiment-roberta-large-english-3-classes were not used when initializing RobertaForSequenceClassification: ['roberta.pooler.dense.bias', 'roberta.pooler.dense.weight']\n",
            "- This IS expected if you are initializing RobertaForSequenceClassification from the checkpoint of a model trained on another task or with another architecture (e.g. initializing a BertForSequenceClassification model from a BertForPreTraining model).\n",
            "- This IS NOT expected if you are initializing RobertaForSequenceClassification from the checkpoint of a model that you expect to be exactly identical (initializing a BertForSequenceClassification model from a BertForSequenceClassification model).\n",
            "c:\\Users\\user\\anaconda3\\Lib\\site-packages\\transformers\\pipelines\\text_classification.py:104: UserWarning: `return_all_scores` is now deprecated,  if want a similar functionality use `top_k=None` instead of `return_all_scores=True` or `top_k=1` instead of `return_all_scores=False`.\n",
            "  warnings.warn(\n"
          ]
        }
      ],
      "source": [
        "#sentiment analysis\n",
        "classifier = pipeline(\"text-classification\", model=\"j-hartmann/sentiment-roberta-large-english-3-classes\", return_all_scores=True)\n",
        "\n",
        "fully_sampled_2019_comments_list = sampled_df_2019_reviews['comments'].tolist()\n",
        "fully_sampled_2023_comments_list = sampled_df_2023_reviews['comments'].tolist()\n",
        "\n",
        "classifier_res_2019 = classifier(fully_sampled_2019_comments_list)\n",
        "classifier_res_2023 = classifier(fully_sampled_2023_comments_list)"
      ]
    },
    {
      "cell_type": "code",
      "execution_count": 37,
      "metadata": {
        "colab": {
          "base_uri": "https://localhost:8080/"
        },
        "id": "Lv4S6AL7JF_J",
        "outputId": "d939e080-8981-405b-8846-38762cb35169"
      },
      "outputs": [
        {
          "name": "stdout",
          "output_type": "stream",
          "text": [
            "    sentiment\n",
            "0    positive\n",
            "1    positive\n",
            "2    positive\n",
            "3    positive\n",
            "4    positive\n",
            "..        ...\n",
            "295  positive\n",
            "296  positive\n",
            "297  positive\n",
            "298  positive\n",
            "299  positive\n",
            "\n",
            "[300 rows x 1 columns] \n",
            "\n",
            "\n",
            "    sentiment\n",
            "0    positive\n",
            "1    positive\n",
            "2    positive\n",
            "3    positive\n",
            "4    positive\n",
            "..        ...\n",
            "295  positive\n",
            "296  positive\n",
            "297  positive\n",
            "298  positive\n",
            "299  positive\n",
            "\n",
            "[300 rows x 1 columns]\n"
          ]
        }
      ],
      "source": [
        "# Creating DataFrame for sentiment results\n",
        "sentiments_2019 = []\n",
        "for res in classifier_res_2019:\n",
        "    max_score = max(res, key=lambda x: x['score'])\n",
        "    sentiments_2019.append(max_score['label'])\n",
        "\n",
        "sentiments_2023 = []\n",
        "for res in classifier_res_2023:\n",
        "    max_score = max(res, key=lambda x: x['score'])\n",
        "    sentiments_2023.append(max_score['label'])\n",
        "\n",
        "# Create DataFrame with a single column named 'score'\n",
        "df_sentiment_2019 = pd.DataFrame(sentiments_2019, columns=['sentiment'])\n",
        "df_sentiment_2023 = pd.DataFrame(sentiments_2023, columns=['sentiment'])\n",
        "\n",
        "print(df_sentiment_2019, \"\\n\\n\")\n",
        "print(df_sentiment_2023)"
      ]
    },
    {
      "cell_type": "code",
      "execution_count": 38,
      "metadata": {
        "colab": {
          "base_uri": "https://localhost:8080/"
        },
        "id": "vF36MRQMJPA4",
        "outputId": "a445d4fc-6b77-4fc2-faa2-83df96167cfa"
      },
      "outputs": [
        {
          "name": "stdout",
          "output_type": "stream",
          "text": [
            "   id        date                                           comments sentiment\n",
            "0   0  2011-05-20  apartment wonderful fully equiped beautiful de...  positive\n",
            "1   1  2013-05-20  manos good host kind helpful apartments spacio...  positive\n",
            "2   2  2015-12-31  apartment nice clean owner helpful help amenit...  positive\n",
            "3   3  2013-06-06  manos exceptionally wonderful host went way as...  positive\n",
            "4   4  2014-05-04  mr manos extremely helpful nice person waiting...  positive\n",
            "Sentiment counts:\n",
            " sentiment\n",
            "positive    281\n",
            "neutral      15\n",
            "negative      4\n",
            "Name: count, dtype: int64\n",
            "   id        date                                           comments sentiment\n",
            "0   0  2013-05-20  manos good host kind helpful apartments spacio...  positive\n",
            "1   1  2014-05-01  angeliki great host friend really enjoyed stay...  positive\n",
            "2   2  2014-06-12  little room perfect suitable size great one pe...  positive\n",
            "3   3  2014-11-04  aggeliki super kind excellent host help anythi...  positive\n",
            "4   4  2015-06-30  angeliki amazing welcomed fresh fruit breakfas...  positive\n",
            "Sentiment counts:\n",
            " sentiment\n",
            "positive    291\n",
            "neutral       8\n",
            "negative      1\n",
            "Name: count, dtype: int64\n"
          ]
        }
      ],
      "source": [
        "import pandas as pd\n",
        "\n",
        "# Δημιουργία ενός DataFrame για τα αρχικά δεδομένα των σχολίων και της ημερομηνίας\n",
        "initial_comments_2019 = pd.DataFrame(fully_sampled_2019_comments_list, columns=['comments'])\n",
        "initial_comments_2019['date'] = [row['date'] for _, row in sampled_df_2019_reviews.iterrows()]  # Προσθήκη της στήλης date\n",
        "\n",
        "# Προσθήκη αναγνωριστικού ID στα αρχικά δεδομένα\n",
        "initial_comments_2019['id'] = initial_comments_2019.index\n",
        "\n",
        "# Δημιουργία μιας λίστας με τα συναισθήματα από το classifier_res_2019\n",
        "sentiments_2019 = [max(res, key=lambda x: x['score'])['label'] for res in classifier_res_2019]\n",
        "\n",
        "# Προσθήκη της στήλης sentiment στο DataFrame\n",
        "initial_comments_2019['sentiment'] = sentiments_2019\n",
        "\n",
        "# Δημιουργία του τελικού DataFrame με τις στήλες id, date, comments, sentiment\n",
        "final_df_2019 = initial_comments_2019[['id', 'date', 'comments', 'sentiment']]\n",
        "\n",
        "# Έλεγχος του τελικού DataFrame\n",
        "print(final_df_2019.head())\n",
        "\n",
        "# Εκτύπωση του αριθμού των negative, positive και neutral σχολίων\n",
        "sentiment_counts = final_df_2019['sentiment'].value_counts()\n",
        "print(\"Sentiment counts:\\n\", sentiment_counts)\n",
        "\n",
        "##############################################################################################################\n",
        "# Δημιουργία ενός DataFrame για τα αρχικά δεδομένα των σχολίων και της ημερομηνίας\n",
        "initial_comments_2023 = pd.DataFrame(fully_sampled_2023_comments_list, columns=['comments'])\n",
        "initial_comments_2023['date'] = [row['date'] for _, row in sampled_df_2023_reviews.iterrows()]  # Προσθήκη της στήλης date\n",
        "\n",
        "# Προσθήκη αναγνωριστικού ID στα αρχικά δεδομένα\n",
        "initial_comments_2023['id'] = initial_comments_2023.index\n",
        "\n",
        "# Δημιουργία μιας λίστας με τα συναισθήματα από το classifier_res_2023\n",
        "sentiments_2023 = [max(res, key=lambda x: x['score'])['label'] for res in classifier_res_2023]\n",
        "\n",
        "# Προσθήκη της στήλης sentiment στο DataFrame\n",
        "initial_comments_2023['sentiment'] = sentiments_2023\n",
        "\n",
        "# Δημιουργία του τελικού DataFrame με τις στήλες id, date, comments, sentiment\n",
        "final_df_2023 = initial_comments_2023[['id', 'date', 'comments', 'sentiment']]\n",
        "\n",
        "# Έλεγχος του τελικού DataFrame\n",
        "print(final_df_2023.head())\n",
        "\n",
        "# Εκτύπωση του αριθμού των negative, positive και neutral σχολίων\n",
        "sentiment_counts = final_df_2023['sentiment'].value_counts()\n",
        "print(\"Sentiment counts:\\n\", sentiment_counts)\n"
      ]
    },
    {
      "cell_type": "code",
      "execution_count": 39,
      "metadata": {
        "colab": {
          "base_uri": "https://localhost:8080/"
        },
        "id": "wKZKk6ak193e",
        "outputId": "e58cf0d1-0a77-4546-9962-3fba4beeefcd"
      },
      "outputs": [
        {
          "name": "stdout",
          "output_type": "stream",
          "text": [
            "sentiment\n",
            "positive    200\n",
            "neutral      15\n",
            "negative      4\n",
            "Name: count, dtype: int64\n",
            "   id        date                                           comments sentiment\n",
            "0   9  2016-10-31  apartment exactly described order host helpful...   neutral\n",
            "1  22  2015-11-29  stay one night property emmanouil showed apart...   neutral\n",
            "2  45  2017-05-15  apartment clean everything needed comfortable ...   neutral\n",
            "3  60  2013-02-03  cool location less everything within walking d...  negative\n",
            "4  82  2014-05-10  fotis accommodating place easy find loft updat...   neutral\n",
            "sentiment\n",
            "positive    200\n",
            "neutral       8\n",
            "negative      1\n",
            "Name: count, dtype: int64\n",
            "    id        date                                           comments  \\\n",
            "0   19  2018-09-27                                place stay athens !   \n",
            "1   45  2014-07-30  anna waited us flight delayed nice flat well s...   \n",
            "2   85  2015-11-09  anna accommodating every way made sure could c...   \n",
            "3   89  2016-03-23  toula vey helpful providing correct informatio...   \n",
            "4  107  2014-08-07  good email communication host provided informa...   \n",
            "\n",
            "  sentiment  \n",
            "0   neutral  \n",
            "1   neutral  \n",
            "2   neutral  \n",
            "3   neutral  \n",
            "4   neutral  \n"
          ]
        }
      ],
      "source": [
        "# Φιλτράρισμα των γραμμών με negative και neutral sentiment\n",
        "negative_neutral_df_2019 = final_df_2019[final_df_2019['sentiment'].isin(['negative', 'neutral'])]\n",
        "\n",
        "# Δειγματοληψία 150 γραμμών με positive sentiment\n",
        "positive_df_2019 = final_df_2019[final_df_2019['sentiment'] == 'positive'].sample(n=200, random_state=42)\n",
        "\n",
        "# Συνδυασμός των δύο DataFrames\n",
        "combined_df_2019 = pd.concat([negative_neutral_df_2019, positive_df_2019], ignore_index=True)\n",
        "\n",
        "# Έλεγχος του τελικού DataFrame\n",
        "print(combined_df_2019['sentiment'].value_counts())\n",
        "print(combined_df_2019.head())\n",
        "\n",
        "##########################################################################################################\n",
        "\n",
        "# Φιλτράρισμα των γραμμών με negative και neutral sentiment\n",
        "negative_neutral_df_2023 = final_df_2023[final_df_2023['sentiment'].isin(['negative', 'neutral'])]\n",
        "\n",
        "# Δειγματοληψία 150 γραμμών με positive sentiment\n",
        "positive_df_2023 = final_df_2023[final_df_2023['sentiment'] == 'positive'].sample(n=200, random_state=42)\n",
        "\n",
        "# Συνδυασμός των δύο DataFrames\n",
        "combined_df_2023 = pd.concat([negative_neutral_df_2023, positive_df_2023], ignore_index=True)\n",
        "\n",
        "# Έλεγχος του τελικού DataFrame\n",
        "print(combined_df_2023['sentiment'].value_counts())\n",
        "print(combined_df_2023.head())"
      ]
    },
    {
      "cell_type": "code",
      "execution_count": 40,
      "metadata": {
        "colab": {
          "base_uri": "https://localhost:8080/",
          "height": 1000
        },
        "id": "8oqDHt3LLMwx",
        "outputId": "3d3a2e67-7e25-468b-eb6f-074c8edd7245"
      },
      "outputs": [
        {
          "name": "stdout",
          "output_type": "stream",
          "text": [
            "\n",
            "Grouped DataFrame with counts:\n",
            "    year sentiment  counts\n",
            "0   2011  positive       3\n",
            "1   2012  positive      27\n",
            "2   2013  negative       2\n",
            "3   2013   neutral       2\n",
            "4   2013  positive      44\n",
            "5   2014   neutral       3\n",
            "6   2014  positive      51\n",
            "7   2015  negative       2\n",
            "8   2015   neutral       4\n",
            "9   2015  positive      31\n",
            "10  2016   neutral       4\n",
            "11  2016  positive      35\n",
            "12  2017   neutral       1\n",
            "13  2017  positive       2\n",
            "14  2018   neutral       1\n",
            "15  2018  positive       2\n",
            "16  2019  positive       5\n"
          ]
        },
        {
          "data": {
            "image/png": "[encoded data removed]",
            "text/plain": [
              "<Figure size 640x480 with 1 Axes>"
            ]
          },
          "metadata": {},
          "output_type": "display_data"
        },
        {
          "name": "stdout",
          "output_type": "stream",
          "text": [
            "\n",
            "Grouped DataFrame with counts:\n",
            "    year sentiment  counts\n",
            "0   2011  positive       1\n",
            "1   2012   neutral       1\n",
            "2   2012  positive       4\n",
            "3   2013  positive       6\n",
            "4   2014  negative       1\n",
            "5   2014   neutral       2\n",
            "6   2014  positive      29\n",
            "7   2015   neutral       1\n",
            "8   2015  positive      55\n",
            "9   2016   neutral       1\n",
            "10  2016  positive      26\n",
            "11  2017  positive      24\n",
            "12  2018   neutral       2\n",
            "13  2018  positive      17\n",
            "14  2019  positive      11\n",
            "15  2020  positive       5\n",
            "16  2021  positive       7\n",
            "17  2022   neutral       1\n",
            "18  2022  positive      12\n",
            "19  2023  positive       3\n"
          ]
        },
        {
          "data": {
            "image/png": "[encoded data removed]",
            "text/plain": [
              "<Figure size 640x480 with 1 Axes>"
            ]
          },
          "metadata": {},
          "output_type": "display_data"
        }
      ],
      "source": [
        "# Define colors for each sentiment\n",
        "colors = {'positive': 'green', 'negative': 'red', 'neutral': 'grey'}\n",
        "\n",
        "combined_df_2019['date'] = pd.to_datetime(combined_df_2019['date'])\n",
        "combined_df_2023['date'] = pd.to_datetime(combined_df_2023['date'])\n",
        "\n",
        "complete_sentiment_df_2019_cp = combined_df_2019.copy()\n",
        "complete_sentiment_df_2023_cp = combined_df_2023.copy()\n",
        "\n",
        "complete_sentiment_df_2019_cp['year'] = complete_sentiment_df_2019_cp['date'].dt.year\n",
        "complete_sentiment_df_2023_cp['year'] = complete_sentiment_df_2023_cp['date'].dt.year\n",
        "\n",
        "emotion_counts = complete_sentiment_df_2019_cp.groupby(['year', 'sentiment']).size().reset_index(name='counts')\n",
        "print(\"\\nGrouped DataFrame with counts:\")\n",
        "print(emotion_counts)\n",
        "\n",
        "pivot_df = emotion_counts.pivot(index='year', columns='sentiment', values='counts').fillna(0)\n",
        "\n",
        "# Plot\n",
        "emotion_counts.pivot(index='year', columns='sentiment', values='counts').fillna(0).plot(\n",
        "    kind='bar', color=[colors.get(x, 'blue') for x in ['negative', 'neutral', 'positive']])\n",
        "#pivot_df.plot(kind='bar', stacked=True)\n",
        "\n",
        "plt.title('Sentiment Distribution Over Years')\n",
        "plt.xlabel('Year')\n",
        "plt.ylabel('Count')\n",
        "plt.legend(title='Emotion')\n",
        "plt.show()\n",
        "\n",
        "\n",
        "\n",
        "emotion_counts = complete_sentiment_df_2023_cp.groupby(['year', 'sentiment']).size().reset_index(name='counts')\n",
        "print(\"\\nGrouped DataFrame with counts:\")\n",
        "print(emotion_counts)\n",
        "\n",
        "pivot_df = emotion_counts.pivot(index='year', columns='sentiment', values='counts').fillna(0)\n",
        "\n",
        "# Plot\n",
        "emotion_counts.pivot(index='year', columns='sentiment', values='counts').fillna(0).plot(\n",
        "    kind='bar', color=[colors.get(x, 'blue') for x in ['negative', 'neutral', 'positive']])\n",
        "plt.title('Sentiment Distribution Over Years')\n",
        "plt.xlabel('Year')\n",
        "plt.ylabel('Count')\n",
        "plt.legend(title='Emotion')\n",
        "plt.show()"
      ]
    },
    {
      "cell_type": "code",
      "execution_count": 41,
      "metadata": {
        "colab": {
          "base_uri": "https://localhost:8080/",
          "height": 498
        },
        "id": "KVZxcD7nOcGr",
        "outputId": "fed2f34b-fe40-4aa7-c1cd-e89e2e2b2636"
      },
      "outputs": [
        {
          "ename": "KeyError",
          "evalue": "'neighbourhood'",
          "output_type": "error",
          "traceback": [
            "\u001b[1;31m---------------------------------------------------------------------------\u001b[0m",
            "\u001b[1;31mKeyError\u001b[0m                                  Traceback (most recent call last)",
            "File \u001b[1;32mc:\\Users\\user\\anaconda3\\Lib\\site-packages\\pandas\\core\\indexes\\base.py:3791\u001b[0m, in \u001b[0;36mIndex.get_loc\u001b[1;34m(self, key)\u001b[0m\n\u001b[0;32m   3790\u001b[0m \u001b[38;5;28;01mtry\u001b[39;00m:\n\u001b[1;32m-> 3791\u001b[0m     \u001b[38;5;28;01mreturn\u001b[39;00m \u001b[38;5;28;43mself\u001b[39;49m\u001b[38;5;241;43m.\u001b[39;49m\u001b[43m_engine\u001b[49m\u001b[38;5;241;43m.\u001b[39;49m\u001b[43mget_loc\u001b[49m\u001b[43m(\u001b[49m\u001b[43mcasted_key\u001b[49m\u001b[43m)\u001b[49m\n\u001b[0;32m   3792\u001b[0m \u001b[38;5;28;01mexcept\u001b[39;00m \u001b[38;5;167;01mKeyError\u001b[39;00m \u001b[38;5;28;01mas\u001b[39;00m err:\n",
            "File \u001b[1;32mindex.pyx:152\u001b[0m, in \u001b[0;36mpandas._libs.index.IndexEngine.get_loc\u001b[1;34m()\u001b[0m\n",
            "File \u001b[1;32mindex.pyx:181\u001b[0m, in \u001b[0;36mpandas._libs.index.IndexEngine.get_loc\u001b[1;34m()\u001b[0m\n",
            "File \u001b[1;32mpandas\\_libs\\hashtable_class_helper.pxi:7080\u001b[0m, in \u001b[0;36mpandas._libs.hashtable.PyObjectHashTable.get_item\u001b[1;34m()\u001b[0m\n",
            "File \u001b[1;32mpandas\\_libs\\hashtable_class_helper.pxi:7088\u001b[0m, in \u001b[0;36mpandas._libs.hashtable.PyObjectHashTable.get_item\u001b[1;34m()\u001b[0m\n",
            "\u001b[1;31mKeyError\u001b[0m: 'neighbourhood'",
            "\nThe above exception was the direct cause of the following exception:\n",
            "\u001b[1;31mKeyError\u001b[0m                                  Traceback (most recent call last)",
            "Cell \u001b[1;32mIn[41], line 28\u001b[0m\n\u001b[0;32m     26\u001b[0m initial_comments_2019 \u001b[38;5;241m=\u001b[39m pd\u001b[38;5;241m.\u001b[39mDataFrame(fully_sampled_2019_comments_list, columns\u001b[38;5;241m=\u001b[39m[\u001b[38;5;124m'\u001b[39m\u001b[38;5;124mcomments\u001b[39m\u001b[38;5;124m'\u001b[39m])\n\u001b[0;32m     27\u001b[0m initial_comments_2019[\u001b[38;5;124m'\u001b[39m\u001b[38;5;124mdate\u001b[39m\u001b[38;5;124m'\u001b[39m] \u001b[38;5;241m=\u001b[39m [row[\u001b[38;5;124m'\u001b[39m\u001b[38;5;124mdate\u001b[39m\u001b[38;5;124m'\u001b[39m] \u001b[38;5;28;01mfor\u001b[39;00m _, row \u001b[38;5;129;01min\u001b[39;00m sampled_df_2019_reviews\u001b[38;5;241m.\u001b[39miterrows()]\n\u001b[1;32m---> 28\u001b[0m initial_comments_2019[\u001b[38;5;124m'\u001b[39m\u001b[38;5;124mneighbourhood\u001b[39m\u001b[38;5;124m'\u001b[39m] \u001b[38;5;241m=\u001b[39m \u001b[43m[\u001b[49m\u001b[43mrow\u001b[49m\u001b[43m[\u001b[49m\u001b[38;5;124;43m'\u001b[39;49m\u001b[38;5;124;43mneighbourhood\u001b[39;49m\u001b[38;5;124;43m'\u001b[39;49m\u001b[43m]\u001b[49m\u001b[43m \u001b[49m\u001b[38;5;28;43;01mfor\u001b[39;49;00m\u001b[43m \u001b[49m\u001b[43m_\u001b[49m\u001b[43m,\u001b[49m\u001b[43m \u001b[49m\u001b[43mrow\u001b[49m\u001b[43m \u001b[49m\u001b[38;5;129;43;01min\u001b[39;49;00m\u001b[43m \u001b[49m\u001b[43msampled_df_2019_reviews\u001b[49m\u001b[38;5;241;43m.\u001b[39;49m\u001b[43miterrows\u001b[49m\u001b[43m(\u001b[49m\u001b[43m)\u001b[49m\u001b[43m]\u001b[49m\n\u001b[0;32m     30\u001b[0m \u001b[38;5;66;03m# Προσθήκη αναγνωριστικού ID στα αρχικά δεδομένα\u001b[39;00m\n\u001b[0;32m     31\u001b[0m initial_comments_2019[\u001b[38;5;124m'\u001b[39m\u001b[38;5;124mid\u001b[39m\u001b[38;5;124m'\u001b[39m] \u001b[38;5;241m=\u001b[39m initial_comments_2019\u001b[38;5;241m.\u001b[39mindex\n",
            "Cell \u001b[1;32mIn[41], line 28\u001b[0m, in \u001b[0;36m<listcomp>\u001b[1;34m(.0)\u001b[0m\n\u001b[0;32m     26\u001b[0m initial_comments_2019 \u001b[38;5;241m=\u001b[39m pd\u001b[38;5;241m.\u001b[39mDataFrame(fully_sampled_2019_comments_list, columns\u001b[38;5;241m=\u001b[39m[\u001b[38;5;124m'\u001b[39m\u001b[38;5;124mcomments\u001b[39m\u001b[38;5;124m'\u001b[39m])\n\u001b[0;32m     27\u001b[0m initial_comments_2019[\u001b[38;5;124m'\u001b[39m\u001b[38;5;124mdate\u001b[39m\u001b[38;5;124m'\u001b[39m] \u001b[38;5;241m=\u001b[39m [row[\u001b[38;5;124m'\u001b[39m\u001b[38;5;124mdate\u001b[39m\u001b[38;5;124m'\u001b[39m] \u001b[38;5;28;01mfor\u001b[39;00m _, row \u001b[38;5;129;01min\u001b[39;00m sampled_df_2019_reviews\u001b[38;5;241m.\u001b[39miterrows()]\n\u001b[1;32m---> 28\u001b[0m initial_comments_2019[\u001b[38;5;124m'\u001b[39m\u001b[38;5;124mneighbourhood\u001b[39m\u001b[38;5;124m'\u001b[39m] \u001b[38;5;241m=\u001b[39m [\u001b[43mrow\u001b[49m\u001b[43m[\u001b[49m\u001b[38;5;124;43m'\u001b[39;49m\u001b[38;5;124;43mneighbourhood\u001b[39;49m\u001b[38;5;124;43m'\u001b[39;49m\u001b[43m]\u001b[49m \u001b[38;5;28;01mfor\u001b[39;00m _, row \u001b[38;5;129;01min\u001b[39;00m sampled_df_2019_reviews\u001b[38;5;241m.\u001b[39miterrows()]\n\u001b[0;32m     30\u001b[0m \u001b[38;5;66;03m# Προσθήκη αναγνωριστικού ID στα αρχικά δεδομένα\u001b[39;00m\n\u001b[0;32m     31\u001b[0m initial_comments_2019[\u001b[38;5;124m'\u001b[39m\u001b[38;5;124mid\u001b[39m\u001b[38;5;124m'\u001b[39m] \u001b[38;5;241m=\u001b[39m initial_comments_2019\u001b[38;5;241m.\u001b[39mindex\n",
            "File \u001b[1;32mc:\\Users\\user\\anaconda3\\Lib\\site-packages\\pandas\\core\\series.py:1040\u001b[0m, in \u001b[0;36mSeries.__getitem__\u001b[1;34m(self, key)\u001b[0m\n\u001b[0;32m   1037\u001b[0m     \u001b[38;5;28;01mreturn\u001b[39;00m \u001b[38;5;28mself\u001b[39m\u001b[38;5;241m.\u001b[39m_values[key]\n\u001b[0;32m   1039\u001b[0m \u001b[38;5;28;01melif\u001b[39;00m key_is_scalar:\n\u001b[1;32m-> 1040\u001b[0m     \u001b[38;5;28;01mreturn\u001b[39;00m \u001b[38;5;28;43mself\u001b[39;49m\u001b[38;5;241;43m.\u001b[39;49m\u001b[43m_get_value\u001b[49m\u001b[43m(\u001b[49m\u001b[43mkey\u001b[49m\u001b[43m)\u001b[49m\n\u001b[0;32m   1042\u001b[0m \u001b[38;5;66;03m# Convert generator to list before going through hashable part\u001b[39;00m\n\u001b[0;32m   1043\u001b[0m \u001b[38;5;66;03m# (We will iterate through the generator there to check for slices)\u001b[39;00m\n\u001b[0;32m   1044\u001b[0m \u001b[38;5;28;01mif\u001b[39;00m is_iterator(key):\n",
            "File \u001b[1;32mc:\\Users\\user\\anaconda3\\Lib\\site-packages\\pandas\\core\\series.py:1156\u001b[0m, in \u001b[0;36mSeries._get_value\u001b[1;34m(self, label, takeable)\u001b[0m\n\u001b[0;32m   1153\u001b[0m     \u001b[38;5;28;01mreturn\u001b[39;00m \u001b[38;5;28mself\u001b[39m\u001b[38;5;241m.\u001b[39m_values[label]\n\u001b[0;32m   1155\u001b[0m \u001b[38;5;66;03m# Similar to Index.get_value, but we do not fall back to positional\u001b[39;00m\n\u001b[1;32m-> 1156\u001b[0m loc \u001b[38;5;241m=\u001b[39m \u001b[38;5;28;43mself\u001b[39;49m\u001b[38;5;241;43m.\u001b[39;49m\u001b[43mindex\u001b[49m\u001b[38;5;241;43m.\u001b[39;49m\u001b[43mget_loc\u001b[49m\u001b[43m(\u001b[49m\u001b[43mlabel\u001b[49m\u001b[43m)\u001b[49m\n\u001b[0;32m   1158\u001b[0m \u001b[38;5;28;01mif\u001b[39;00m is_integer(loc):\n\u001b[0;32m   1159\u001b[0m     \u001b[38;5;28;01mreturn\u001b[39;00m \u001b[38;5;28mself\u001b[39m\u001b[38;5;241m.\u001b[39m_values[loc]\n",
            "File \u001b[1;32mc:\\Users\\user\\anaconda3\\Lib\\site-packages\\pandas\\core\\indexes\\base.py:3798\u001b[0m, in \u001b[0;36mIndex.get_loc\u001b[1;34m(self, key)\u001b[0m\n\u001b[0;32m   3793\u001b[0m     \u001b[38;5;28;01mif\u001b[39;00m \u001b[38;5;28misinstance\u001b[39m(casted_key, \u001b[38;5;28mslice\u001b[39m) \u001b[38;5;129;01mor\u001b[39;00m (\n\u001b[0;32m   3794\u001b[0m         \u001b[38;5;28misinstance\u001b[39m(casted_key, abc\u001b[38;5;241m.\u001b[39mIterable)\n\u001b[0;32m   3795\u001b[0m         \u001b[38;5;129;01mand\u001b[39;00m \u001b[38;5;28many\u001b[39m(\u001b[38;5;28misinstance\u001b[39m(x, \u001b[38;5;28mslice\u001b[39m) \u001b[38;5;28;01mfor\u001b[39;00m x \u001b[38;5;129;01min\u001b[39;00m casted_key)\n\u001b[0;32m   3796\u001b[0m     ):\n\u001b[0;32m   3797\u001b[0m         \u001b[38;5;28;01mraise\u001b[39;00m InvalidIndexError(key)\n\u001b[1;32m-> 3798\u001b[0m     \u001b[38;5;28;01mraise\u001b[39;00m \u001b[38;5;167;01mKeyError\u001b[39;00m(key) \u001b[38;5;28;01mfrom\u001b[39;00m \u001b[38;5;21;01merr\u001b[39;00m\n\u001b[0;32m   3799\u001b[0m \u001b[38;5;28;01mexcept\u001b[39;00m \u001b[38;5;167;01mTypeError\u001b[39;00m:\n\u001b[0;32m   3800\u001b[0m     \u001b[38;5;66;03m# If we have a listlike key, _check_indexing_error will raise\u001b[39;00m\n\u001b[0;32m   3801\u001b[0m     \u001b[38;5;66;03m#  InvalidIndexError. Otherwise we fall through and re-raise\u001b[39;00m\n\u001b[0;32m   3802\u001b[0m     \u001b[38;5;66;03m#  the TypeError.\u001b[39;00m\n\u001b[0;32m   3803\u001b[0m     \u001b[38;5;28mself\u001b[39m\u001b[38;5;241m.\u001b[39m_check_indexing_error(key)\n",
            "\u001b[1;31mKeyError\u001b[0m: 'neighbourhood'"
          ]
        }
      ],
      "source": [
        "import pandas as pd\n",
        "import seaborn as sns\n",
        "import matplotlib.pyplot as plt\n",
        "\n",
        "# Φόρτωση των αρχείων listings για το 2019\n",
        "df_listings_2019_april = pd.read_csv(f\"data/2019/april/listings.csv\", low_memory=False)\n",
        "df_listings_2019_febrouary = pd.read_csv(f\"data/2019/febrouary/listings.csv\", low_memory=False)\n",
        "df_listings_2019_march = pd.read_csv(f\"data/2019/march/listings.csv\", low_memory=False)\n",
        "\n",
        "# Συνδυασμός των δεδομένων listings για το 2019\n",
        "df_listings_2019 = pd.concat([df_listings_2019_april, df_listings_2019_febrouary, df_listings_2019_march], ignore_index=True)\n",
        "\n",
        "# Φόρτωση των αρχείων listings για το 2023\n",
        "df_listings_2023_june = pd.read_csv(f\"data/2023/june/listings.csv\", low_memory=False)\n",
        "df_listings_2023_march = pd.read_csv(f\"data/2023/march/listings.csv\", low_memory=False)\n",
        "df_listings_2023_september = pd.read_csv(f\"data/2023/september/listings.csv\", low_memory=False)\n",
        "\n",
        "# Συνδυασμός των δεδομένων listings για το 2023\n",
        "df_listings_2023 = pd.concat([df_listings_2023_june, df_listings_2023_march, df_listings_2023_september], ignore_index=True)\n",
        "\n",
        "# Συγχώνευση των δεδομένων σχολίων με τα δεδομένα listings\n",
        "sampled_df_2019_reviews = pd.merge(sampled_df_2019_reviews, df_listings_2019[['id', 'neighbourhood']], left_on='id', right_on='id', how='left')\n",
        "sampled_df_2023_reviews = pd.merge(sampled_df_2023_reviews, df_listings_2023[['id', 'neighbourhood']], left_on='id', right_on='id', how='left')\n",
        "\n",
        "# Δημιουργία ενός DataFrame για τα αρχικά δεδομένα των σχολίων και της ημερομηνίας για το 2019\n",
        "initial_comments_2019 = pd.DataFrame(fully_sampled_2019_comments_list, columns=['comments'])\n",
        "initial_comments_2019['date'] = [row['date'] for _, row in sampled_df_2019_reviews.iterrows()]\n",
        "initial_comments_2019['neighbourhood'] = [row['neighbourhood'] for _, row in sampled_df_2019_reviews.iterrows()]\n",
        "\n",
        "# Προσθήκη αναγνωριστικού ID στα αρχικά δεδομένα\n",
        "initial_comments_2019['id'] = initial_comments_2019.index\n",
        "\n",
        "# Δημιουργία μιας λίστας με τα συναισθήματα από το classifier_res_2019\n",
        "sentiments_2019 = [max(res, key=lambda x: x['score'])['label'] for res in classifier_res_2019]\n",
        "\n",
        "# Προσθήκη της στήλης sentiment στο DataFrame\n",
        "initial_comments_2019['sentiment'] = sentiments_2019\n",
        "\n",
        "# Δημιουργία του τελικού DataFrame με τις στήλες id, date, comments, neighbourhood, sentiment\n",
        "final_df_2019 = initial_comments_2019[['id', 'date', 'comments', 'neighbourhood', 'sentiment']]\n",
        "\n",
        "# Έλεγχος του τελικού DataFrame\n",
        "print(final_df_2019.head())\n",
        "\n",
        "# Εκτύπωση του αριθμού των negative, positive και neutral σχολίων\n",
        "sentiment_counts = final_df_2019['sentiment'].value_counts()\n",
        "print(\"Sentiment counts:\\n\", sentiment_counts)\n",
        "\n",
        "##############################################################################################################\n",
        "# Δημιουργία ενός DataFrame για τα αρχικά δεδομένα των σχολίων και της ημερομηνίας για το 2023\n",
        "initial_comments_2023 = pd.DataFrame(fully_sampled_2023_comments_list, columns=['comments'])\n",
        "initial_comments_2023['date'] = [row['date'] for _, row in sampled_df_2023_reviews.iterrows()]\n",
        "initial_comments_2023['neighbourhood'] = [row['neighbourhood'] for _, row in sampled_df_2023_reviews.iterrows()]\n",
        "\n",
        "# Προσθήκη αναγνωριστικού ID στα αρχικά δεδομένα\n",
        "initial_comments_2023['id'] = initial_comments_2023.index\n",
        "\n",
        "# Δημιουργία μιας λίστας με τα συναισθήματα από το classifier_res_2023\n",
        "sentiments_2023 = [max(res, key=lambda x: x['score'])['label'] for res in classifier_res_2023]\n",
        "\n",
        "# Προσθήκη της στήλης sentiment στο DataFrame\n",
        "initial_comments_2023['sentiment'] = sentiments_2023\n",
        "\n",
        "# Δημιουργία του τελικού DataFrame με τις στήλες id, date, comments, neighbourhood, sentiment\n",
        "final_df_2023 = initial_comments_2023[['id', 'date', 'comments', 'neighbourhood', 'sentiment']]\n",
        "\n",
        "# Έλεγχος του τελικού DataFrame\n",
        "print(final_df_2023.head())\n",
        "\n",
        "# Εκτύπωση του αριθμού των negative, positive και neutral σχολίων\n",
        "sentiment_counts = final_df_2023['sentiment'].value_counts()\n",
        "print(\"Sentiment counts:\\n\", sentiment_counts)\n",
        "\n",
        "# Συνδυασμός των DataFrames για το 2019 και το 2023\n",
        "combined_df_2019_2023 = pd.concat([final_df_2019, final_df_2023], ignore_index=True)\n",
        "\n",
        "# Προσθήκη στήλης 'year'\n",
        "combined_df_2019_2023['year'] = combined_df_2019_2023['date'].apply(lambda x: pd.to_datetime(x).year)\n",
        "\n",
        "# Δημιουργία γραφημάτων για την κατανομή των συναισθημάτων ανά γειτονιά\n",
        "plt.figure(figsize=(12, 8))\n",
        "sns.countplot(data=combined_df_2019_2023, x='neighbourhood', hue='sentiment')\n",
        "plt.title('Sentiment Distribution per Neighborhood')\n",
        "plt.xlabel('Neighborhood')\n",
        "plt.ylabel('Count')\n",
        "plt.xticks(rotation=45)\n",
        "plt.legend(title='Sentiment')\n",
        "plt.show()\n",
        "\n",
        "# Δημιουργία γραφημάτων για την κατανομή των συναισθημάτων ανά γειτονιά για το 2019 και το 2023\n",
        "plt.figure(figsize=(12, 8))\n",
        "sns.countplot(data=combined_df_2019_2023[combined_df_2019_2023['year'] == 2019], x='neighbourhood', hue='sentiment')\n",
        "plt.title('Sentiment Distribution per Neighborhood in 2019')\n",
        "plt.xlabel('Neighborhood')\n",
        "plt.ylabel('Count')\n",
        "plt.xticks(rotation=45)\n",
        "plt.legend(title='Sentiment')\n",
        "plt.show()\n",
        "\n",
        "plt.figure(figsize=(12, 8))\n",
        "sns.countplot(data=combined_df_2019_2023[combined_df_2019_2023['year'] == 2023], x='neighbourhood', hue='sentiment')\n",
        "plt.title('Sentiment Distribution per Neighborhood in 2023')\n",
        "plt.xlabel('Neighborhood')\n",
        "plt.ylabel('Count')\n",
        "plt.xticks(rotation=45)\n",
        "plt.legend(title='Sentiment')\n",
        "plt.show()\n"
      ]
    },
    {
      "cell_type": "markdown",
      "metadata": {},
      "source": [
        "# **Second Part: ✨Sentiment Analysis**✨"
      ]
    },
    {
      "cell_type": "code",
      "execution_count": 42,
      "metadata": {},
      "outputs": [
        {
          "name": "stdout",
          "output_type": "stream",
          "text": [
            "Train set 2019 shape: (240, 4)\n",
            "Test set 2019 shape: (60, 4)\n",
            "Train set 2023 shape: (240, 4)\n",
            "Test set 2023 shape: (60, 4)\n",
            "Train set 2019:\n",
            "       id        date                                           comments  \\\n",
            "232  232  2016-01-31  emmanouil accurate quick getting back emails c...   \n",
            "59    59  2013-01-15  thank fotis much everything done welcome us be...   \n",
            "6      6  2015-04-20  highly recommend property emmanuel wonderful h...   \n",
            "185  185  2014-09-26  fotis gracious considerate host greatly apprec...   \n",
            "173  173  2014-04-08  lovely apartment one huge room nicely decorate...   \n",
            "\n",
            "    sentiment  \n",
            "232  positive  \n",
            "59   positive  \n",
            "6    positive  \n",
            "185  positive  \n",
            "173  positive  \n",
            "Test set 2019:\n",
            "       id        date                                           comments  \\\n",
            "203  203  2019-03-31  apartment clean cosy location nice neighbourho...   \n",
            "266  266  2013-09-11  fotis great host got much later expected met e...   \n",
            "152  152  2012-09-09  nice place stay good access shopping quiet bed...   \n",
            "9      9  2016-10-31  apartment exactly described order host helpful...   \n",
            "233  233  2016-05-05  emmanouil really great host available studio l...   \n",
            "\n",
            "    sentiment  \n",
            "203  positive  \n",
            "266  positive  \n",
            "152  positive  \n",
            "9     neutral  \n",
            "233  positive  \n",
            "Train set 2023:\n",
            "       id        date                                           comments  \\\n",
            "232  232  2015-07-25  apartment exactly described beautiful arty spa...   \n",
            "59    59  2014-06-05  toula fay great hosts ! fay picked us metaxour...   \n",
            "6      6  2016-05-11  really enjoyed staying ! neighborhood lovely r...   \n",
            "185  185  2018-07-03  location soula ’ flat fantastic everything wal...   \n",
            "173  173  2017-06-02  great place great location would definitely st...   \n",
            "\n",
            "    sentiment  \n",
            "232  positive  \n",
            "59   positive  \n",
            "6    positive  \n",
            "185  positive  \n",
            "173  positive  \n",
            "Test set 2023:\n",
            "       id        date                                           comments  \\\n",
            "203  203  2014-07-03  apartment simply superb beautiful spacious imp...   \n",
            "266  266  2022-05-07  nice apartment easy access public transport br...   \n",
            "152  152  2016-05-19  indeed fabulous place stay athens right locati...   \n",
            "9      9  2021-06-21  nice apartment much space big rooftop amazing ...   \n",
            "233  233  2015-08-13  dear soula br thank much beautiful apartment a...   \n",
            "\n",
            "    sentiment  \n",
            "203  positive  \n",
            "266  positive  \n",
            "152  positive  \n",
            "9    positive  \n",
            "233  positive  \n"
          ]
        }
      ],
      "source": [
        "import pandas as pd\n",
        "from sklearn.model_selection import train_test_split\n",
        "\n",
        "\n",
        "train_df_2019, test_df_2019 = train_test_split(final_df_2019, test_size=0.2, random_state=42)\n",
        "\n",
        "\n",
        "train_df_2023, test_df_2023 = train_test_split(final_df_2023, test_size=0.2, random_state=42)\n",
        "\n",
        "\n",
        "print(\"Train set 2019 shape:\", train_df_2019.shape)\n",
        "print(\"Test set 2019 shape:\", test_df_2019.shape)\n",
        "print(\"Train set 2023 shape:\", train_df_2023.shape)\n",
        "print(\"Test set 2023 shape:\", test_df_2023.shape)\n",
        "\n",
        "print(\"Train set 2019:\\n\", train_df_2019.head())\n",
        "print(\"Test set 2019:\\n\", test_df_2019.head())\n",
        "print(\"Train set 2023:\\n\", train_df_2023.head())\n",
        "print(\"Test set 2023:\\n\", test_df_2023.head())"
      ]
    },
    {
      "cell_type": "markdown",
      "metadata": {},
      "source": [
        "# **Third Part: ✨Similarity (jaccard, cosine, etc) και σημασιολογικές γειτονιές**✨"
      ]
    },
    {
      "cell_type": "code",
      "execution_count": 23,
      "metadata": {},
      "outputs": [
        {
          "name": "stdout",
          "output_type": "stream",
          "text": [
            "C:\\Users\\user/gensim-data\\word2vec-google-news-300\\word2vec-google-news-300.gz\n"
          ]
        }
      ],
      "source": [
        "import gensim.downloader as api\n",
        "path = api.load(\"word2vec-google-news-300\", return_path=True)\n",
        "print(path)"
      ]
    },
    {
      "cell_type": "code",
      "execution_count": 25,
      "metadata": {},
      "outputs": [],
      "source": [
        "from gensim.models import KeyedVectors\n",
        "\n",
        "model_path = r'C:\\Users\\user/gensim-data\\word2vec-google-news-300\\word2vec-google-news-300.gz'\n",
        "model = KeyedVectors.load_word2vec_format(model_path, binary=True)"
      ]
    },
    {
      "cell_type": "code",
      "execution_count": 43,
      "metadata": {},
      "outputs": [
        {
          "name": "stdout",
          "output_type": "stream",
          "text": [
            "The similarity between 'king' and 'queen' is: 0.6511\n"
          ]
        }
      ],
      "source": [
        "from scipy.spatial.distance import cosine\n",
        "\n",
        "def calculate_word_vector(w, emb_model):\n",
        "    if w in emb_model:\n",
        "        return emb_model[w]\n",
        "    else:\n",
        "        return np.zeros(emb_model.vector_size)\n",
        "\n",
        "def calculate_cosine_similarity(vec1, vec2):\n",
        "    return 1 - cosine(vec1, vec2)\n",
        "\n",
        "def calculate_similarity(w1, w2, emb_model):\n",
        "    \n",
        "    vec1 = calculate_word_vector(w1, emb_model)\n",
        "    vec2 = calculate_word_vector(w2, emb_model)\n",
        "    \n",
        "    return calculate_cosine_similarity(vec1, vec2)\n",
        "\n",
        "# Example usage\n",
        "word1 = \"king\"\n",
        "word2 = \"queen\"\n",
        "\n",
        "similarity = calculate_similarity(word1, word2, model)\n",
        "print(f\"The similarity between '{word1}' and '{word2}' is: {similarity:.4f}\")"
      ]
    },
    {
      "cell_type": "code",
      "execution_count": 44,
      "metadata": {},
      "outputs": [
        {
          "name": "stdout",
          "output_type": "stream",
          "text": [
            "Combined Semantic Neighborhood for 'king' and 'queen':\n",
            "queens: 0.7399\n",
            "kings: 0.7138\n"
          ]
        }
      ],
      "source": [
        "def get_neighborhood(word, model, N):\n",
        "    \n",
        "    if word in model:\n",
        "        return model.most_similar(word, topn=N)\n",
        "    else:\n",
        "        return []\n",
        "\n",
        "def get_combined_neighborhood(word1, word2, model, N):\n",
        "   \n",
        "    neighborhood1 = get_neighborhood(word1, model, N)\n",
        "    neighborhood2 = get_neighborhood(word2, model, N)\n",
        "    \n",
        "    combined_neighborhood = neighborhood1 + neighborhood2\n",
        "    combined_neighborhood = sorted(combined_neighborhood, key=lambda x: x[1], reverse=True)\n",
        "    \n",
        "    # Optionally, remove duplicates and keep only top N unique words\n",
        "    seen = set()\n",
        "    unique_combined_neighborhood = []\n",
        "    for word, score in combined_neighborhood:\n",
        "        if word not in seen:\n",
        "            seen.add(word)\n",
        "            unique_combined_neighborhood.append((word, score))\n",
        "            if len(unique_combined_neighborhood) == N:\n",
        "                break\n",
        "    \n",
        "    return unique_combined_neighborhood\n",
        "\n",
        "word1 = \"king\"\n",
        "word2 = \"queen\"\n",
        "N = 2\n",
        "\n",
        "# Get the combined semantic neighborhood\n",
        "combined_neighborhood = get_combined_neighborhood(word1, word2, model, N)\n",
        "\n",
        "# Print the results\n",
        "print(\"Combined Semantic Neighborhood for '{}' and '{}':\".format(word1, word2))\n",
        "for word, similarity in combined_neighborhood:\n",
        "    print(f\"{word}: {similarity:.4f}\")"
      ]
    },
    {
      "cell_type": "code",
      "execution_count": 45,
      "metadata": {},
      "outputs": [
        {
          "name": "stdout",
          "output_type": "stream",
          "text": [
            "Max similarity between neighborhoods of 'king' and 'queen': 1.0000\n",
            "Correlation of similarities between neighborhoods of 'king' and 'queen': 0.9674\n",
            "Sum of squared similarities between neighborhoods of 'king' and 'queen': 24.9703\n"
          ]
        }
      ],
      "source": [
        "def calculate_neighborhood(word, emb_model, N):\n",
        "  \n",
        "    if word in emb_model:\n",
        "        return emb_model.most_similar(word, topn=N)\n",
        "    else:\n",
        "        return []\n",
        "\n",
        "def calculate_similarity(word1, word2, emb_model):\n",
        "   \n",
        "    if word1 in emb_model and word2 in emb_model:\n",
        "        return emb_model.similarity(word1, word2)\n",
        "    else:\n",
        "        return 0.0\n",
        "\n",
        "def calculate_max_similarity(nei1, nei2, emb_model):\n",
        "   \n",
        "    max_similarity = 0.0\n",
        "    for word1, _ in nei1:\n",
        "        for word2, _ in nei2:\n",
        "            similarity = calculate_similarity(word1, word2, emb_model)\n",
        "            if similarity > max_similarity:\n",
        "                max_similarity = similarity\n",
        "    return max_similarity\n",
        "\n",
        "def correlation_of_similarities(nei1, nei2):\n",
        "    \n",
        "    sims1 = [similarity for _, similarity in nei1]\n",
        "    sims2 = [similarity for _, similarity in nei2]\n",
        "    if len(sims1) != len(sims2):\n",
        "        return 0.0\n",
        "    correlation = np.corrcoef(sims1, sims2)[0, 1]\n",
        "    return correlation\n",
        "\n",
        "def sum_of_squared_similarities(nei1, nei2, emb_model):\n",
        "   \n",
        "    sum_squared_sim = 0.0\n",
        "    for word1, _ in nei1:\n",
        "        for word2, _ in nei2:\n",
        "            sim = calculate_similarity(word1, word2, emb_model)\n",
        "            sum_squared_sim += sim ** 2\n",
        "    return sum_squared_sim\n",
        "\n",
        "\n",
        "# Words to find the semantic neighborhood for\n",
        "word1 = \"king\"\n",
        "word2 = \"queen\"\n",
        "word3 = \"man\"\n",
        "N = 10\n",
        "\n",
        "# Get the neighborhoods\n",
        "neighborhood1 = calculate_neighborhood(word1, model, N)\n",
        "neighborhood2 = get_neighborhood(word2, model, N)\n",
        "neighborhood3 = get_neighborhood(word3, model, N)\n",
        "\n",
        "# Calculate the similarities\n",
        "max_similarityy = calculate_max_similarity(neighborhood1, neighborhood2, model)\n",
        "correlation_similarityy = correlation_of_similarities(neighborhood1, neighborhood2)\n",
        "sum_squared_similarityy = sum_of_squared_similarities(neighborhood1, neighborhood2, model)\n",
        "\n",
        "print(f\"Max similarity between neighborhoods of '{word1}' and '{word2}': {max_similarityy:.4f}\")\n",
        "print(f\"Correlation of similarities between neighborhoods of '{word1}' and '{word2}': {correlation_similarityy:.4f}\")\n",
        "print(f\"Sum of squared similarities between neighborhoods of '{word1}' and '{word2}': {sum_squared_similarityy:.4f}\")\n"
      ]
    }
  ],
  "metadata": {
    "colab": {
      "provenance": []
    },
    "kernelspec": {
      "display_name": "Python 3",
      "name": "python3"
    },
    "language_info": {
      "codemirror_mode": {
        "name": "ipython",
        "version": 3
      },
      "file_extension": ".py",
      "mimetype": "text/x-python",
      "name": "python",
      "nbconvert_exporter": "python",
      "pygments_lexer": "ipython3",
      "version": "3.11.7"
    }
  },
  "nbformat": 4,
  "nbformat_minor": 0
}
